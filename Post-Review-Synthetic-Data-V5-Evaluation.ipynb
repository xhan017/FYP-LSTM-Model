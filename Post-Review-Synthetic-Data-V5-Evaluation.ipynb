{
 "cells": [
  {
   "cell_type": "markdown",
   "metadata": {},
   "source": [
    "# Evaluation for LSTM model"
   ]
  },
  {
   "cell_type": "code",
   "execution_count": 1,
   "metadata": {},
   "outputs": [
    {
     "name": "stderr",
     "output_type": "stream",
     "text": [
      "Using TensorFlow backend.\n"
     ]
    },
    {
     "name": "stdout",
     "output_type": "stream",
     "text": [
      "['clean_train.csv', 'no_duplicates']\n"
     ]
    }
   ],
   "source": [
    "import numpy as np # linear algebra\n",
    "import pandas as pd # data processing, CSV file I/O (e.g. pd.read_csv)\n",
    "from keras.layers import Dense, Embedding, LSTM, SpatialDropout1D\n",
    "from keras.models import Sequential\n",
    "from sklearn.feature_extraction.text import CountVectorizer\n",
    "from keras.preprocessing.text import Tokenizer\n",
    "from keras.preprocessing.sequence import pad_sequences\n",
    "from sklearn.model_selection import train_test_split\n",
    "from keras.utils.np_utils import to_categorical\n",
    "from keras.callbacks import EarlyStopping\n",
    "import pickle\n",
    "\n",
    "# Input data files are available in the \"./input_data/\" directory.\n",
    "import os\n",
    "print(os.listdir(\"./input_data/final\"))\n",
    "# os.environ[\"CUDA_DEVICE_ORDER\"]=\"PCI_BUS_ID\"\n",
    "# os.environ[\"CUDA_VISIBLE_DEVICES\"]=\"0\"  # specify which GPU(s) to be used\n",
    "import matplotlib.pyplot as plt\n",
    "%matplotlib inline\n",
    "from pandas.tools.plotting import table\n",
    "\n",
    "###################################\n",
    "## extra imports to set GPU options\n",
    "import tensorflow as tf\n",
    "from keras import backend as k\n",
    "\n",
    "# TensorFlow wizardry\n",
    "config = tf.ConfigProto()\n",
    "# Don't pre-allocate memory; allocate as-needed\n",
    "config.gpu_options.allow_growth = True\n",
    "# Only allow a total of half the GPU memory to be allocated\n",
    "config.gpu_options.per_process_gpu_memory_fraction = 0.1\n",
    "# Create a session with the above options specified.\n",
    "k.tensorflow_backend.set_session(tf.Session(config=config))\n",
    "###################################"
   ]
  },
  {
   "cell_type": "markdown",
   "metadata": {},
   "source": [
    "## Defining functions"
   ]
  },
  {
   "cell_type": "code",
   "execution_count": 2,
   "metadata": {},
   "outputs": [],
   "source": [
    "# Setting up tokenizer\n",
    "n_most_common_words = 1000 #8000\n",
    "max_len = 150\n",
    "\n",
    "# This function should only be called once\n",
    "def initializeTokenizer(trainingDF):\n",
    "    tokenizer.fit_on_texts(trainingDF['OPCODE'].values)\n",
    "    # Saving tokenizer\n",
    "    import pickle\n",
    "    with open('./PickleJar/'+modelName+'_tokenizer.pickle', 'wb') as handle:\n",
    "        pickle.dump(tokenizer, handle, protocol=pickle.HIGHEST_PROTOCOL)\n",
    "\n",
    "def label(df):    \n",
    "    # label data\n",
    "    df['LABEL'] = 0\n",
    "    df.loc[df['CATEGORY'] == '1 0 0 0', 'LABEL'] = 0\n",
    "    df.loc[df['CATEGORY'] != '1 0 0 0', 'LABEL'] = 1\n",
    "    \n",
    "def preprocess(df):\n",
    "    # # Transforms each text in texts in a sequence of integers.\n",
    "    sequences = tokenizer.texts_to_sequences(df['OPCODE'].values)\n",
    "    # sequences = tokenizer.texts_to_sequences(tt)\n",
    "\n",
    "    #Find number of unique words/tokens\n",
    "    word_index = tokenizer.word_index\n",
    "    print('Found %s unique tokens.' % len(word_index))\n",
    "\n",
    "    #pad sequences with zeros in front to make them all maxlen\n",
    "    X = pad_sequences(sequences, maxlen=max_len)\n",
    "    return X\n",
    "\n",
    "def dftoXY(df):\n",
    "    # Save test X and y\n",
    "    X_test = preprocess(df)\n",
    "    # label data\n",
    "    label(df)\n",
    "    print(pd.value_counts(df['LABEL']))\n",
    "    y_test = to_categorical(df['LABEL'], num_classes=2)\n",
    "    return X_test, y_test    \n",
    "\n",
    "def XandY(posdf, negdf):\n",
    "    dfset = pd.concat([posdf, negdf])\n",
    "    dfset = dfset.sample(frac=1, random_state=39, replace=False)\n",
    "\n",
    "    dfset['LABEL'] = 0\n",
    "\n",
    "    #One-hot encode the lab\n",
    "    dfset.loc[dfset['CATEGORY'] == '1 0 0 0', 'LABEL'] = 0\n",
    "    dfset.loc[dfset['CATEGORY'] != '1 0 0 0', 'LABEL'] = 1\n",
    "    # df_train.head()\n",
    "\n",
    "    X, y = dftoXY(dfset)\n",
    "\n",
    "    print('Shape of X: {}'.format(X.shape))\n",
    "\n",
    "    # for sm.fit_sample\n",
    "    y_labels = np.expand_dims(np.array(np.argmax(y, axis=1)), axis=1)\n",
    "    print('Shape of y: {}'.format(y_labels.shape))\n",
    "\n",
    "    return X, y_labels"
   ]
  },
  {
   "cell_type": "code",
   "execution_count": 3,
   "metadata": {},
   "outputs": [],
   "source": [
    "# ============== Set and Tune ============== \n",
    "# ========================================== \n",
    "\n",
    "# os.environ[\"CUDA_VISIBLE_DEVICES\"]=\"0\"  # specify which GPU(s) to be used\n",
    "# split positives dataset into train, val, and test\n",
    "proportion_train = 0.64 #0.7 \n",
    "proportion_val = 0.16 #0.1 \n",
    "proportion_test = 0.2 #0.20\n",
    "\n",
    "# set number of samples in each set\n",
    "trainSize = 550000 #350000 #30000 #11000\n",
    "\n",
    "# Init\n",
    "epochs = 80\n",
    "emb_dim = 128 #150\n",
    "batch_size = 256 #512   \n",
    "\n",
    "# LSTM Model\n",
    "# tune Dropout(0.6) and LSTM 64 or 32\n",
    "ratioFP = 0.5\n",
    "FPtrain_frac = 0.8\n",
    "dropout = 0.5\n",
    "LSTM_units = 64\n",
    "\n",
    "# Model name:\n",
    "modelName = 'V5-FYP-v2'"
   ]
  },
  {
   "cell_type": "markdown",
   "metadata": {},
   "source": [
    "## Saving and Loading Trained Model"
   ]
  },
  {
   "cell_type": "code",
   "execution_count": 4,
   "metadata": {},
   "outputs": [],
   "source": [
    "# model_name = \"v3_550KLSTM64epoch100train0.64drop0.55\"\n",
    "modelName = 'V5-FYP-v2'"
   ]
  },
  {
   "cell_type": "code",
   "execution_count": 5,
   "metadata": {},
   "outputs": [],
   "source": [
    "with open('./PickleJar/'+modelName+'_tokenizer.pickle', 'rb') as handle:\n",
    "    tokenizer = pickle.load(handle)"
   ]
  },
  {
   "cell_type": "code",
   "execution_count": 6,
   "metadata": {},
   "outputs": [],
   "source": [
    "# loading previously saved model\n",
    "from keras.models import load_model\n",
    "# model = load_model('./saved_model/postreviewV3/'+ 'train' + model_name + '.h5')\n",
    "model = load_model('./SavedModels/'+modelName+'.h5')   "
   ]
  },
  {
   "cell_type": "markdown",
   "metadata": {},
   "source": [
    "## Plot Performance"
   ]
  },
  {
   "cell_type": "code",
   "execution_count": 7,
   "metadata": {},
   "outputs": [],
   "source": [
    "# infile = open('./saved_model/postreviewV3/' + 'train' + model_name ,'rb')\n",
    "infile = open('./PickleJar/' + 'train' + modelName, 'rb')\n",
    "history0 = pickle.load(infile)\n",
    "infile.close()"
   ]
  },
  {
   "cell_type": "code",
   "execution_count": 8,
   "metadata": {
    "scrolled": true
   },
   "outputs": [
    {
     "data": {
      "text/plain": [
       "<matplotlib.legend.Legend at 0x25d2f9099e8>"
      ]
     },
     "execution_count": 8,
     "metadata": {},
     "output_type": "execute_result"
    },
    {
     "data": {
      "image/png": "[encoded data removed]",
      "text/plain": [
       "<Figure size 432x288 with 1 Axes>"
      ]
     },
     "metadata": {
      "needs_background": "light"
     },
     "output_type": "display_data"
    }
   ],
   "source": [
    "# acc = history.history['acc']\n",
    "# val_acc = history.history['val_acc']\n",
    "# loss = history.history['loss']\n",
    "# val_loss = history.history['val_loss']\n",
    "\n",
    "acc = history0['acc']\n",
    "val_acc = history0['val_acc']\n",
    "loss = history0['loss']\n",
    "val_loss = history0['val_loss']\n",
    "\n",
    "\n",
    "epochs = range(1, len(acc) + 1)\n",
    "\n",
    "fig = plt.figure()\n",
    "plt.xlabel('Epochs')\n",
    "plt.ylabel('Accuracy')\n",
    "plt.plot(epochs, acc, 'bo', label='Training acc')\n",
    "plt.plot(epochs, val_acc, 'b', label='Validation acc')\n",
    "plt.title('Training and validation accuracy')\n",
    "plt.legend()\n",
    "\n",
    "# fig.savefig('./figures/postreviewV4.1/Accr_trainandval_' + model_name + '.png',dpi=300)"
   ]
  },
  {
   "cell_type": "code",
   "execution_count": 9,
   "metadata": {},
   "outputs": [
    {
     "data": {
      "image/png": "[encoded data removed]",
      "text/plain": [
       "<Figure size 432x288 with 1 Axes>"
      ]
     },
     "metadata": {
      "needs_background": "light"
     },
     "output_type": "display_data"
    }
   ],
   "source": [
    "fig = plt.figure()\n",
    "plt.xlabel('Epochs')\n",
    "plt.ylabel('Loss')\n",
    "plt.plot(epochs, loss, 'bo', label='Training loss')\n",
    "plt.plot(epochs, val_loss, 'b', label='Validation loss')\n",
    "plt.title('Training and validation loss')\n",
    "plt.legend()\n",
    "\n",
    "plt.show()\n",
    "# fig.savefig('./figures/postreviewV4.1/Loss_trainandval_' + model_name + '.png',dpi=300)"
   ]
  },
  {
   "cell_type": "markdown",
   "metadata": {},
   "source": [
    "This happens when you use Dropout, since the behaviour when training and testing are different.\n",
    "\n",
    "When training, a percentage of the features are set to zero (50% in my case). When testing, all features are used (and are scaled appropriately). So the model at test time is more robust - and can lead to higher testing accuracies.\n",
    "\n",
    "No signs of over or under fitting. "
   ]
  },
  {
   "cell_type": "markdown",
   "metadata": {},
   "source": [
    "## All test FPs"
   ]
  },
  {
   "cell_type": "markdown",
   "metadata": {},
   "source": [
    "**Loading the dataset**"
   ]
  },
  {
   "cell_type": "code",
   "execution_count": 10,
   "metadata": {},
   "outputs": [],
   "source": [
    "# Loading and reading csv input data \n",
    "\n",
    "# all_testset = 'clean_test_allFP_noDups.csv'\n",
    "leakFP = 'clean_test_leakFP_noDups.csv'\n",
    "suicidalFP = 'clean_test_suicidalFP_noDups.csv'\n",
    "greedyFP = 'clean_test_greedyFP_noDups.csv'\n",
    "\n",
    "leakFP_test = pd.read_csv('./input_data/final/no_duplicates/'+leakFP, usecols=['ADDRESS', 'OPCODE', 'CATEGORY'])\n",
    "suicidalFP_test = pd.read_csv('./input_data/final/no_duplicates/'+suicidalFP, usecols=['ADDRESS', 'OPCODE', 'CATEGORY'])\n",
    "greedyFP_test = pd.read_csv('./input_data/final/no_duplicates/'+greedyFP, usecols=['ADDRESS', 'OPCODE', 'CATEGORY'])\n",
    "\n",
    "# leakFP_test.head()"
   ]
  },
  {
   "cell_type": "code",
   "execution_count": 11,
   "metadata": {},
   "outputs": [
    {
     "name": "stdout",
     "output_type": "stream",
     "text": [
      "Found 150 unique tokens.\n",
      "0    177\n",
      "Name: LABEL, dtype: int64\n",
      "177/177 [==============================] - 0s 1ms/step\n",
      "Leak test set\n",
      "  Loss: 1.0850\n",
      "  Accuracy: 0.7401\n",
      "Found 150 unique tokens.\n",
      "0    72\n",
      "Name: LABEL, dtype: int64\n",
      "72/72 [==============================] - 0s 499us/step\n",
      "Suicidal test set\n",
      "  Loss: 1.1527\n",
      "  Accuracy: 0.4444\n",
      "Found 150 unique tokens.\n",
      "0    202\n",
      "Name: LABEL, dtype: int64\n",
      "202/202 [==============================] - 0s 484us/step\n",
      "Greedy test set\n",
      "  Loss: 1.9171\n",
      "  Accuracy: 0.4158\n"
     ]
    }
   ],
   "source": [
    "X_leakFP, y_leakFP = dftoXY(leakFP_test)\n",
    "leakFP_accr = model.evaluate(X_leakFP,y_leakFP)\n",
    "print('Leak test set\\n  Loss: {:0.4f}\\n  Accuracy: {:0.4f}'.format(leakFP_accr[0],leakFP_accr[1]))\n",
    "\n",
    "X_suicidalFP, y_suicidalFP = dftoXY(suicidalFP_test)\n",
    "suicidalFP_accr = model.evaluate(X_suicidalFP,y_suicidalFP)\n",
    "print('Suicidal test set\\n  Loss: {:0.4f}\\n  Accuracy: {:0.4f}'.format(suicidalFP_accr[0],suicidalFP_accr[1]))\n",
    "\n",
    "X_greedyFP, y_greedyFP = dftoXY(greedyFP_test)\n",
    "greedyFP_accr = model.evaluate(X_greedyFP,y_greedyFP)\n",
    "print('Greedy test set\\n  Loss: {:0.4f}\\n  Accuracy: {:0.4f}'.format(greedyFP_accr[0],greedyFP_accr[1]))"
   ]
  },
  {
   "cell_type": "markdown",
   "metadata": {},
   "source": [
    "# ADDED Evaluation Measures"
   ]
  },
  {
   "cell_type": "markdown",
   "metadata": {},
   "source": [
    "### Saving and Loading Trained Model"
   ]
  },
  {
   "cell_type": "code",
   "execution_count": 12,
   "metadata": {},
   "outputs": [
    {
     "name": "stdout",
     "output_type": "stream",
     "text": [
      "Total number of vulnerable contracts (positives_shuf): 8640\n",
      "Train \t\tpos_train: \t\t5530\n",
      "Validation \tpos_val: \t\t1382\n",
      "Test \t\tpos_test: \t\t1728\n",
      "550000\n",
      "Number of negative samples not used:  299898\n",
      "Total number of non-vulnerable contracts (n_shuf): 884273\n",
      "Train \t\tneg_train: \t\t275000\n",
      "Validation \tneg_val: \t\t137500\n",
      "Test \t\tneg_test: \t\t171875\n",
      "Found 150 unique tokens.\n",
      "0    275000\n",
      "1      5530\n",
      "Name: LABEL, dtype: int64\n",
      "Shape of X: (280530, 150)\n",
      "Shape of y: (280530, 1)\n",
      "Found 150 unique tokens.\n",
      "0    137500\n",
      "1      1382\n",
      "Name: LABEL, dtype: int64\n",
      "Shape of X: (138882, 150)\n",
      "Shape of y: (138882, 1)\n",
      "Found 150 unique tokens.\n",
      "0    171875\n",
      "1      1728\n",
      "Name: LABEL, dtype: int64\n",
      "Shape of X: (173603, 150)\n",
      "Shape of y: (173603, 1)\n",
      "Number transactions X_train dataset:  (280530, 150)\n",
      "Number transactions y_train dataset:  (280530, 1)\n",
      "Number transactions X_val dataset:  (138882, 150)\n",
      "Number transactions y_val dataset:  (138882, 1)\n",
      "Number transactions X_test dataset:  (173603, 150)\n",
      "Number transactions y_test dataset:  (173603, 1)\n",
      "Before OverSampling, counts of label '1': [5530]\n",
      "Before OverSampling, counts of label '0': [275000]\n",
      "Before OverSampling, counts of label '1': [1382]\n",
      "Before OverSampling, counts of label '0': [137500]\n",
      "Before OverSampling, counts of label '1': [1728]\n",
      "Before OverSampling, counts of label '0': [171875] \n",
      "\n",
      "After OverSampling, the shape of train_X: (550000, 150)\n",
      "After OverSampling, the shape of train_y: (550000,)\n",
      "After OverSampling, counts of train label '1': 275000\n",
      "After OverSampling, counts of train label '0': 275000\n",
      "((550000, 150), (550000, 2), (138882, 150), (138882, 2), (173603, 150), (173603, 2))\n"
     ]
    }
   ],
   "source": [
    "# ===============================================================#\n",
    "# ============== Loading and reading csv input data =============# \n",
    "# ===============================================================#\n",
    "dataset = 'clean_train.csv'\n",
    "data = pd.read_csv('./input_data/final/'+dataset, usecols=['ADDRESS', 'OPCODE', 'CATEGORY'])\n",
    "\n",
    "shuffled = data\n",
    "\n",
    "n = shuffled[shuffled['CATEGORY'] == '1 0 0 0'] # no vulnerabilities\n",
    "s = shuffled[shuffled['CATEGORY'] == '0 1 0 0'] # suicidal\n",
    "p = shuffled[shuffled['CATEGORY'] == '0 0 1 0'] # prodigal\n",
    "g = shuffled[shuffled['CATEGORY'] == '0 0 0 1'] # greedy\n",
    "sp = shuffled[shuffled['CATEGORY'] == '0 1 1 0'] # suicidal and prodigal\n",
    "\n",
    "concated = pd.concat([n,s,p,g,sp], ignore_index=True)\n",
    "\n",
    "#Shuffle the dataset\n",
    "concated = concated.reindex(np.random.permutation(concated.index))\n",
    "concated['LABEL'] = 0\n",
    "\n",
    "#One-hot encode the lab\n",
    "concated.loc[concated['CATEGORY'] == '1 0 0 0', 'LABEL'] = 0\n",
    "concated.loc[concated['CATEGORY'] != '1 0 0 0', 'LABEL'] = 1\n",
    "\n",
    "\n",
    "# ========== set of vul contracts ========== \n",
    "# shuffle positives dataset\n",
    "positives = pd.concat([s,p,g,sp])\n",
    "positives_shuf = positives.sample(frac=1, random_state=39, replace=False)\n",
    "\n",
    "num_pos_train = round(len(positives_shuf) * proportion_train)\n",
    "num_pos_val = round(len(positives_shuf) * proportion_val)\n",
    "\n",
    "pos_train = positives_shuf.iloc[0:num_pos_train] \n",
    "pos_val = positives_shuf.iloc[num_pos_train:(num_pos_train+num_pos_val)]\n",
    "pos_test = positives_shuf.iloc[(num_pos_train+num_pos_val):]\n",
    "\n",
    "print(\"Total number of vulnerable contracts (positives_shuf): \"+str(len(positives_shuf)))\n",
    "print(\"Train \\t\\tpos_train: \\t\\t\"+str(len(pos_train)))\n",
    "print(\"Validation \\tpos_val: \\t\\t\"+str(len(pos_val)))\n",
    "print(\"Test \\t\\tpos_test: \\t\\t\"+str(len(pos_test)))\n",
    "\n",
    "\n",
    "# ========== set of non-vul contracts ========== \n",
    "# # shuffle set n\n",
    "n_shuf = n.sample(frac=1, random_state=39, replace=False)\n",
    "\n",
    "# # set number of samples in each set\n",
    "num_neg_train = 550000\n",
    "print(num_neg_train)\n",
    "# set number of samples in each set\n",
    "num_neg_train = round(num_neg_train*0.5) #30000 #11000\n",
    "num_neg_val = round(((trainSize)/proportion_train)*proportion_val)\n",
    "num_neg_test = round(((trainSize)/proportion_train)*proportion_test)\n",
    "\n",
    "neg_train = n_shuf.iloc[0:num_neg_train]\n",
    "neg_val = n_shuf.iloc[num_neg_train:(num_neg_train+num_neg_val)]\n",
    "neg_test = n_shuf.iloc[(num_neg_train+num_neg_val):(num_neg_train+num_neg_val+num_neg_test)]\n",
    "neg_notused = n_shuf.iloc[(num_neg_train+num_neg_val+num_neg_test):]\n",
    "\n",
    "print(\"Number of negative samples not used: \", len(neg_notused))\n",
    "print(\"Total number of non-vulnerable contracts (n_shuf): \"+str(len(n_shuf)))\n",
    "print(\"Train \\t\\tneg_train: \\t\\t\"+str(len(neg_train)))\n",
    "print(\"Validation \\tneg_val: \\t\\t\"+str(len(neg_val)))\n",
    "print(\"Test \\t\\tneg_test: \\t\\t\"+str(len(neg_test)))\n",
    "\n",
    "### ============ Resampling samples ============ ###\n",
    "# Prepare train set \n",
    "#X_train, ytrain_labels = XandY(pos_train, neg_train)\n",
    "# Join training set together and shuffle\n",
    "df_train = pd.concat([pos_train, neg_train])\n",
    "df_train = df_train.sample(frac=1, random_state=39, replace=False)\n",
    "\n",
    "# One-hot encode the lab\n",
    "df_train['LABEL'] = 0\n",
    "df_train.loc[df_train['CATEGORY'] == '1 0 0 0', 'LABEL'] = 0\n",
    "df_train.loc[df_train['CATEGORY'] != '1 0 0 0', 'LABEL'] = 1\n",
    "# df_train.head()\n",
    "\n",
    "# Initialize tokenizer with training set \n",
    "# initializeTokenizer(df_train)\n",
    "\n",
    "# Get train & target vectors \n",
    "X_train, y_train = dftoXY(df_train)\n",
    "print('Shape of X: {}'.format(X_train.shape))\n",
    "\n",
    "# for sm.fit_sample\n",
    "ytrain_labels = np.expand_dims(np.array(np.argmax(y_train, axis=1)), axis=1)\n",
    "print('Shape of y: {}'.format(ytrain_labels.shape))\n",
    "\n",
    "## Prepare validation set \n",
    "#X_val, yval_labels = XandY(pos_val, neg_val)\n",
    "df_val = pd.concat([pos_val, neg_val])\n",
    "df_val = df_val.sample(frac=1, random_state=39, replace=False)\n",
    "\n",
    "df_val['LABEL'] = 0\n",
    "\n",
    "#One-hot encode the lab\n",
    "df_val.loc[df_val['CATEGORY'] == '1 0 0 0', 'LABEL'] = 0\n",
    "df_val.loc[df_val['CATEGORY'] != '1 0 0 0', 'LABEL'] = 1\n",
    "# df_train.head()\n",
    "\n",
    "X_val, y_val = dftoXY(df_val)\n",
    "\n",
    "print('Shape of X: {}'.format(X_val.shape))\n",
    "\n",
    "# for sm.fit_sample\n",
    "yval_labels = np.expand_dims(np.array(np.argmax(y_val, axis=1)), axis=1)\n",
    "print('Shape of y: {}'.format(yval_labels.shape))\n",
    "\n",
    "# Prepare test set \n",
    "#X_test, ytest_labels = XandY(pos_test, neg_test)\n",
    "# ============ test set ============ \n",
    "df_test = pd.concat([pos_test, neg_test])\n",
    "df_test = df_test.sample(frac=1, random_state=39, replace=False)\n",
    "\n",
    "df_test['LABEL'] = 0\n",
    "\n",
    "#One-hot encode the lab\n",
    "df_test.loc[df_test['CATEGORY'] == '1 0 0 0', 'LABEL'] = 0\n",
    "df_test.loc[df_test['CATEGORY'] != '1 0 0 0', 'LABEL'] = 1\n",
    "# df_train.head()\n",
    "\n",
    "X_test, y_test = dftoXY(df_test)\n",
    "\n",
    "print('Shape of X: {}'.format(X_test.shape))\n",
    "\n",
    "# for sm.fit_sample\n",
    "ytest_labels = np.expand_dims(np.array(np.argmax(y_test, axis=1)), axis=1)\n",
    "print('Shape of y: {}'.format(ytest_labels.shape))\n",
    "\n",
    "print(\"Number transactions X_train dataset: \", X_train.shape)\n",
    "print(\"Number transactions y_train dataset: \", ytrain_labels.shape)\n",
    "print(\"Number transactions X_val dataset: \", X_val.shape)\n",
    "print(\"Number transactions y_val dataset: \", yval_labels.shape)\n",
    "print(\"Number transactions X_test dataset: \", X_test.shape)\n",
    "print(\"Number transactions y_test dataset: \", ytest_labels.shape)\n",
    "\n",
    "print(\"Before OverSampling, counts of label '1': {}\".format(sum(ytrain_labels==1)))\n",
    "print(\"Before OverSampling, counts of label '0': {}\".format(sum(ytrain_labels==0)))\n",
    "print(\"Before OverSampling, counts of label '1': {}\".format(sum(yval_labels==1)))\n",
    "print(\"Before OverSampling, counts of label '0': {}\".format(sum(yval_labels==0)))\n",
    "print(\"Before OverSampling, counts of label '1': {}\".format(sum(ytest_labels==1)))\n",
    "print(\"Before OverSampling, counts of label '0': {} \\n\".format(sum(ytest_labels==0)))\n",
    "\n",
    "\n",
    "# ============ Resample ============ \n",
    "from imblearn.over_sampling import SMOTE\n",
    "\n",
    "sm = SMOTE(random_state=39)\n",
    "X_train_res, y_train_res = sm.fit_sample(X_train, ytrain_labels.ravel())\n",
    "\n",
    "print('After OverSampling, the shape of train_X: {}'.format(X_train_res.shape))\n",
    "print('After OverSampling, the shape of train_y: {}'.format(y_train_res.shape))\n",
    "\n",
    "print(\"After OverSampling, counts of train label '1': {}\".format(sum(y_train_res==1)))\n",
    "print(\"After OverSampling, counts of train label '0': {}\".format(sum(y_train_res==0)))\n",
    "\n",
    "\n",
    "# ============== LSTM Model ==============\n",
    "# # Init\n",
    "# # ------------------\n",
    "# # ------ tune ------\n",
    "# epochs = 1 #70 #50 #100\n",
    "# emb_dim = 128 #150\n",
    "# batch_size = 256 #512\n",
    "# # ------------------\n",
    "# # ------------------\n",
    "\n",
    "# Convert format for training  \n",
    "ytrainres_cat = to_categorical(y_train_res, num_classes=2)\n",
    "yvalres_cat = to_categorical(yval_labels, num_classes=2)\n",
    "ytestres_cat = to_categorical(ytest_labels, num_classes=2)\n",
    "\n",
    "#print((X_train_res.shape, ytrainres_cat.shape, X_val_res.shape, yvalres_cat.shape, X_test_res.shape, ytestres_cat.shape))\n",
    "print((X_train_res.shape, ytrainres_cat.shape, X_val.shape, yvalres_cat.shape, X_test.shape, ytestres_cat.shape))"
   ]
  },
  {
   "cell_type": "code",
   "execution_count": 13,
   "metadata": {},
   "outputs": [
    {
     "name": "stdout",
     "output_type": "stream",
     "text": [
      "173603/173603 [==============================] - 85s 488us/step\n",
      "Test set\n",
      "  Loss: 0.0195\n",
      "  Accuracy: 0.9942\n"
     ]
    }
   ],
   "source": [
    "# Test accuracy\n",
    "accr = model.evaluate(X_test, ytestres_cat)\n",
    "print('Test set\\n  Loss: {:0.4f}\\n  Accuracy: {:0.4f}'.format(accr[0],accr[1]))"
   ]
  },
  {
   "cell_type": "code",
   "execution_count": 14,
   "metadata": {},
   "outputs": [],
   "source": [
    "# To calculate precision and recall\n",
    "# y_pred = model.predict_classes(X_test_res, batch_size=32, verbose=0)\n",
    "y_pred = model.predict_classes(X_test, batch_size=32, verbose=0)\n",
    "# ytest_true = y_test_res\n",
    "ytest_true = ytest_labels"
   ]
  },
  {
   "cell_type": "code",
   "execution_count": 15,
   "metadata": {},
   "outputs": [
    {
     "name": "stdout",
     "output_type": "stream",
     "text": [
      "Average Precision Score: 0.5867\n",
      "\n",
      "Recall Score: 0.8987\n",
      "\n",
      "============== ADDED Evaluation ==============\n",
      "Accuracy: 0.9942\n",
      "\n",
      "Recall: 0.8987\n",
      "\n",
      "Precision: 0.6517\n",
      "\n",
      "F1 score: 0.7555\n",
      "\n",
      "\n",
      " confusion matrix:\n",
      " [[171045    830]\n",
      " [   175   1553]]\n",
      "\n",
      " clasification report:\n",
      "               precision    recall  f1-score   support\n",
      "\n",
      "           0       1.00      1.00      1.00    171875\n",
      "           1       0.65      0.90      0.76      1728\n",
      "\n",
      "   micro avg       0.99      0.99      0.99    173603\n",
      "   macro avg       0.83      0.95      0.88    173603\n",
      "weighted avg       1.00      0.99      0.99    173603\n",
      "\n"
     ]
    }
   ],
   "source": [
    "from sklearn.metrics import average_precision_score\n",
    "# Compute the average precision score\n",
    "average_precision = average_precision_score(ytest_true, y_pred)\n",
    "print('Average Precision Score: {:0.4f}\\n'.format(average_precision))\n",
    "\n",
    "# Compute the recall\n",
    "from sklearn.metrics import precision_recall_curve\n",
    "from sklearn.utils.fixes import signature\n",
    "\n",
    "precision, recall, _ = precision_recall_curve(ytest_true, y_pred)\n",
    "print('Recall Score: {:0.4f}\\n'.format(recall[1]))\n",
    "\n",
    "print(\"============== ADDED Evaluation ==============\")\n",
    "from sklearn.metrics import precision_score, \\\n",
    "    recall_score, confusion_matrix, classification_report, \\\n",
    "    accuracy_score, f1_score\n",
    "\n",
    "# The set of labels predicted for a sample must exactly match the corresponding set of labels in y_true.\n",
    "print('Accuracy: {:0.4f}\\n'.format(accuracy_score(ytest_true, y_pred)))\n",
    "# The recall is the ratio tp / (tp + fn) where tp is the number of true positives and fn the number of false negatives. The recall is intuitively the ability of the classifier to find all the positive samples.\n",
    "print('Recall: {:0.4f}\\n'.format(recall_score(ytest_true, y_pred)))\n",
    "# The precision is the ratio tp / (tp + fp) where tp is the number of true positives and fp the number of false positives. The precision is intuitively the ability of the classifier not to label as positive a sample that is negative.\n",
    "print('Precision: {:0.4f}\\n'.format(precision_score(ytest_true, y_pred)))\n",
    "# The F1 score can be interpreted as a weighted average of the precision and recall, where an F1 score reaches its best value at 1 and worst score at 0.\n",
    "print('F1 score: {:0.4f}\\n'.format(f1_score(ytest_true, y_pred)))\n",
    "\n",
    "# In binary classification, the count of true negatives is C_{0,0}, false negatives is C_{1,0}, true positives is C_{1,1} and false positives is C_{0,1}.\n",
    "print('\\n confusion matrix:\\n',confusion_matrix(ytest_true, y_pred))\n",
    "# Overview of all scores\n",
    "print('\\n clasification report:\\n', classification_report(ytest_true, y_pred))"
   ]
  },
  {
   "cell_type": "code",
   "execution_count": 16,
   "metadata": {},
   "outputs": [
    {
     "name": "stdout",
     "output_type": "stream",
     "text": [
      "ROC AUC score: 0.9469\n",
      "\n"
     ]
    }
   ],
   "source": [
    "from sklearn.metrics import roc_curve, auc, roc_auc_score    \n",
    "# Compute Receiver operating characteristic (ROC). Restricted to the binary classification task\n",
    "fpr, tpr, threshold = roc_curve(ytest_true, y_pred)\n",
    "roc_auc = auc(fpr, tpr)\n",
    "print('ROC AUC score: {:0.4f}\\n'.format(roc_auc_score(ytest_true, y_pred)))"
   ]
  },
  {
   "cell_type": "code",
   "execution_count": 17,
   "metadata": {},
   "outputs": [
    {
     "data": {
      "image/png": "[encoded data removed]",
      "text/plain": [
       "<Figure size 432x288 with 1 Axes>"
      ]
     },
     "metadata": {
      "needs_background": "light"
     },
     "output_type": "display_data"
    }
   ],
   "source": [
    "# method I: plt\n",
    "import matplotlib.pyplot as plt\n",
    "plt.title('Receiver Operating Characteristic')\n",
    "plt.plot(fpr, tpr, 'b', label = 'AUC = %0.2f' % roc_auc)\n",
    "plt.legend(loc = 'lower right')\n",
    "plt.plot([0, 1], [0, 1],'r--')\n",
    "plt.xlim([0, 1])\n",
    "plt.ylim([0, 1])\n",
    "plt.ylabel('True Positive Rate')\n",
    "plt.xlabel('False Positive Rate')\n",
    "## plt.show()\n",
    "plt.savefig('ROC_' + modelName + '.png', dpi=300)"
   ]
  },
  {
   "cell_type": "code",
   "execution_count": 18,
   "metadata": {},
   "outputs": [
    {
     "data": {
      "image/png": "[encoded data removed]",
      "text/plain": [
       "<Figure size 432x288 with 1 Axes>"
      ]
     },
     "metadata": {
      "needs_background": "light"
     },
     "output_type": "display_data"
    }
   ],
   "source": [
    "plt.figure()\n",
    "lw = 2\n",
    "plt.plot(fpr, tpr, color='darkorange',\n",
    "         lw=lw, label='ROC curve (area = %0.2f)' % roc_auc)\n",
    "plt.plot([0, 1], [0, 1], color='navy', lw=lw, linestyle='--')\n",
    "plt.xlim([0.0, 1.0])\n",
    "plt.ylim([0.0, 1.05])\n",
    "plt.xlabel('False Positive Rate')\n",
    "plt.ylabel('True Positive Rate')\n",
    "plt.title('Receiver Operating Characteristic')\n",
    "plt.legend(loc=\"lower right\")\n",
    "## plt.show()\n",
    "plt.savefig('ROCnice_' + modelName + '.png',dpi=300)"
   ]
  },
  {
   "cell_type": "code",
   "execution_count": 20,
   "metadata": {},
   "outputs": [],
   "source": [
    "# trend_df = pd.read_csv('results-20190304-132710.csv')\n",
    "trend_df = pd.read_csv('results-20190304-134307.csv')"
   ]
  },
  {
   "cell_type": "code",
   "execution_count": 21,
   "metadata": {},
   "outputs": [
    {
     "data": {
      "text/html": [
       "<div>\n",
       "<style scoped>\n",
       "    .dataframe tbody tr th:only-of-type {\n",
       "        vertical-align: middle;\n",
       "    }\n",
       "\n",
       "    .dataframe tbody tr th {\n",
       "        vertical-align: top;\n",
       "    }\n",
       "\n",
       "    .dataframe thead th {\n",
       "        text-align: right;\n",
       "    }\n",
       "</style>\n",
       "<table border=\"1\" class=\"dataframe\">\n",
       "  <thead>\n",
       "    <tr style=\"text-align: right;\">\n",
       "      <th></th>\n",
       "      <th>noOfContracts</th>\n",
       "      <th>month</th>\n",
       "      <th>year</th>\n",
       "    </tr>\n",
       "  </thead>\n",
       "  <tbody>\n",
       "    <tr>\n",
       "      <th>0</th>\n",
       "      <td>741</td>\n",
       "      <td>8</td>\n",
       "      <td>2015</td>\n",
       "    </tr>\n",
       "    <tr>\n",
       "      <th>1</th>\n",
       "      <td>1086</td>\n",
       "      <td>9</td>\n",
       "      <td>2015</td>\n",
       "    </tr>\n",
       "    <tr>\n",
       "      <th>2</th>\n",
       "      <td>1511</td>\n",
       "      <td>10</td>\n",
       "      <td>2015</td>\n",
       "    </tr>\n",
       "    <tr>\n",
       "      <th>3</th>\n",
       "      <td>1243</td>\n",
       "      <td>11</td>\n",
       "      <td>2015</td>\n",
       "    </tr>\n",
       "    <tr>\n",
       "      <th>4</th>\n",
       "      <td>1606</td>\n",
       "      <td>12</td>\n",
       "      <td>2015</td>\n",
       "    </tr>\n",
       "  </tbody>\n",
       "</table>\n",
       "</div>"
      ],
      "text/plain": [
       "   noOfContracts  month  year\n",
       "0            741      8  2015\n",
       "1           1086      9  2015\n",
       "2           1511     10  2015\n",
       "3           1243     11  2015\n",
       "4           1606     12  2015"
      ]
     },
     "execution_count": 21,
     "metadata": {},
     "output_type": "execute_result"
    }
   ],
   "source": [
    "trend_df.head()"
   ]
  },
  {
   "cell_type": "code",
   "execution_count": 22,
   "metadata": {},
   "outputs": [
    {
     "data": {
      "text/plain": [
       "0      8 2015\n",
       "1      9 2015\n",
       "2     10 2015\n",
       "3     11 2015\n",
       "4     12 2015\n",
       "5      1 2016\n",
       "6      2 2016\n",
       "7      3 2016\n",
       "8      4 2016\n",
       "9      5 2016\n",
       "10     6 2016\n",
       "11     7 2016\n",
       "12     8 2016\n",
       "13     9 2016\n",
       "14    10 2016\n",
       "15    11 2016\n",
       "16    12 2016\n",
       "17     1 2017\n",
       "18     2 2017\n",
       "19     3 2017\n",
       "20     4 2017\n",
       "21     5 2017\n",
       "22     6 2017\n",
       "23     7 2017\n",
       "24     8 2017\n",
       "25     9 2017\n",
       "26    10 2017\n",
       "27    11 2017\n",
       "28    12 2017\n",
       "29     1 2018\n",
       "30     2 2018\n",
       "31     3 2018\n",
       "32     4 2018\n",
       "33     5 2018\n",
       "34     6 2018\n",
       "35     7 2018\n",
       "36     8 2018\n",
       "37     9 2018\n",
       "38    10 2018\n",
       "39    11 2018\n",
       "40    12 2018\n",
       "dtype: object"
      ]
     },
     "execution_count": 22,
     "metadata": {},
     "output_type": "execute_result"
    }
   ],
   "source": [
    "def getMonthYear (row):\n",
    "   return str(row['month'])+\" \"+str(row['year'])\n",
    "\n",
    "trend_df.apply (lambda row: getMonthYear (row),axis=1)"
   ]
  },
  {
   "cell_type": "code",
   "execution_count": 23,
   "metadata": {},
   "outputs": [],
   "source": [
    "trend_df['year-month'] = trend_df.apply (lambda row: getMonthYear (row),axis=1)"
   ]
  },
  {
   "cell_type": "code",
   "execution_count": 24,
   "metadata": {},
   "outputs": [
    {
     "data": {
      "text/plain": [
       "<Figure size 1296x576 with 0 Axes>"
      ]
     },
     "metadata": {},
     "output_type": "display_data"
    },
    {
     "data": {
      "image/png": "[encoded data removed]",
      "text/plain": [
       "<Figure size 432x288 with 1 Axes>"
      ]
     },
     "metadata": {
      "needs_background": "light"
     },
     "output_type": "display_data"
    }
   ],
   "source": [
    "fig = plt.figure()\n",
    "trend_df.plot(kind='bar',x='year-month',y='noOfContracts')\n",
    "fig.set_size_inches(18, 8)\n",
    "plt.xlabel(\"Date\")\n",
    "plt.ylabel(\"Contract creation frequency\")\n",
    "plt.savefig('contract_creation.png', dpi=300, bbox_inches=\"tight\") #, bbox_inches='tight'\n",
    "plt.show()"
   ]
  }
 ],
 "metadata": {
  "kernelspec": {
   "display_name": "Python 3",
   "language": "python",
   "name": "python3"
  },
  "language_info": {
   "codemirror_mode": {
    "name": "ipython",
    "version": 3
   },
   "file_extension": ".py",
   "mimetype": "text/x-python",
   "name": "python",
   "nbconvert_exporter": "python",
   "pygments_lexer": "ipython3",
   "version": "3.5.6"
  },
  "toc": {
   "base_numbering": 1,
   "nav_menu": {},
   "number_sections": true,
   "sideBar": true,
   "skip_h1_title": false,
   "title_cell": "Table of Contents",
   "title_sidebar": "Contents",
   "toc_cell": false,
   "toc_position": {},
   "toc_section_display": true,
   "toc_window_display": false
  }
 },
 "nbformat": 4,
 "nbformat_minor": 2
}
